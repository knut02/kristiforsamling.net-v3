{
 "cells": [
  {
   "cell_type": "markdown",
   "metadata": {},
   "source": [
    "# To you Lord\n",
    "\n",
    "O To you, O Lord, I lift my soul  \n",
    "You’re my Saviour, you’re the one I trust  \n",
    "Show me your ways, O Lord my God  \n",
    "Teach me how to follow in your paths  \n",
    "Remember, O Lord, your mercy and your love from old\n",
    "\n",
    "O My eyes are ever on the Lord  \n",
    "He who knows my weakness and my faults  \n",
    "Lord, guard my life and rescue me  \n",
    "Let my enemies be put to shame  \n",
    "For I take refuge in you and you deliever me\n",
    "\n",
    "O Be merciful to me, O Lord  \n",
    "Take away all my iniquity  \n",
    "Lord, turn to me and hear my voice  \n",
    "Look upon the sorrow in my heart  \n",
    "The Lord is my strength, my soul finds rest in God alone"
   ],
   "id": "a26e58e7-1d88-420b-ad8d-7ede5ba85f25"
  }
 ],
 "nbformat": 4,
 "nbformat_minor": 5,
 "metadata": {}
}
