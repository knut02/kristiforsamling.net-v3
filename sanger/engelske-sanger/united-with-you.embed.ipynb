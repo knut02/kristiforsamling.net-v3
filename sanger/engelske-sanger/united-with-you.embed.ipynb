{
 "cells": [
  {
   "cell_type": "markdown",
   "metadata": {},
   "source": [
    "# United with you\n",
    "\n",
    "Jesus, my brother  \n",
    "You’re so different from any other  \n",
    "person I know  \n",
    "By your shoulder  \n",
    "I get wiser and I get bolder  \n",
    "You make me grow\n",
    "\n",
    "Help me talk like you did  \n",
    "Help me walk like you did  \n",
    "Jesus, I long to be united with you\n",
    "\n",
    "Jesus, refine me  \n",
    "I will let your words define me,  \n",
    "be my guide!  \n",
    "You give me vision,  \n",
    "I’m a part of the ultimate mission  \n",
    "by your side\n",
    "\n",
    "Help me share like you did  \n",
    "Help me dare like you did  \n",
    "Jesus, I long to be united with you\n",
    "\n",
    "Jesus, I praise you  \n",
    "One day soon I will embrace you,  \n",
    "see your face  \n",
    "Where I am living,  \n",
    "I will imitate your loving and giving,  \n",
    "by your grace\n",
    "\n",
    "Help me give like you did  \n",
    "Help me live like you did  \n",
    "Jesus, I long to be united with you x2"
   ],
   "id": "f8729b34-6018-4fba-a0ac-d0ccb05b3617"
  }
 ],
 "nbformat": 4,
 "nbformat_minor": 5,
 "metadata": {}
}
