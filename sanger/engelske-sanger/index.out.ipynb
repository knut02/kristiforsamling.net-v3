{
 "cells": [
  {
   "cell_type": "markdown",
   "metadata": {},
   "source": [
    "# Engelske sanger\n",
    "\n",
    "Denne delen inneholder sanger på engelsk."
   ],
   "id": "391ce4d2-061b-4e56-b58d-1e0764ff776a"
  }
 ],
 "nbformat": 4,
 "nbformat_minor": 5,
 "metadata": {}
}
