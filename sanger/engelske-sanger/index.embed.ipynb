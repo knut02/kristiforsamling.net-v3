{
 "cells": [
  {
   "cell_type": "markdown",
   "metadata": {},
   "source": [
    "# Engelske sanger\n",
    "\n",
    "Denne delen inneholder sanger på engelsk."
   ],
   "id": "7f4aad19-f354-40bc-8120-ead87c2b3ffb"
  }
 ],
 "nbformat": 4,
 "nbformat_minor": 5,
 "metadata": {}
}
