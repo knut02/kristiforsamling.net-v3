{
 "cells": [
  {
   "cell_type": "markdown",
   "metadata": {},
   "source": [
    "# Victory in Jesus\n",
    "\n",
    "I heard an old, old story, how a Savior came from glory  \n",
    "How he gave his life on Calvary to save a wretch like me  \n",
    "I heard about His groaning, of His precious blood’s atoning\n",
    "\n",
    "**Chorus:**  \n",
    "Oh victory in Jesus, my Saviour forever  \n",
    "He sought me and He bought me with his redeeming blood  \n",
    "He loved me’ere I knew Him and all mo love is due Him  \n",
    "He plunged me to victory beneath the cleansing flood\n",
    "\n",
    "I heard about His healing, of His cleansing power revealing  \n",
    "How He made the lame to walk again and He cause the blind to see  \n",
    "And then I cried, “Dear Jesus, come and heal my broken spirit”  \n",
    "I then obeyed His blest command and gained the victory\n",
    "\n",
    "**Chorus:**  \n",
    "Oh victory in Jesus, my Saviour forever  \n",
    "He sought me and He bought me with his redeeming blood  \n",
    "He loved me’ere I knew Him and all mo love is due Him  \n",
    "He plunged me to victory beneath the cleansing flood\n",
    "\n",
    "I head about a mansion He has built for me in glory  \n",
    "And I heard about the street of gold beyond the crystal sea  \n",
    "About the angels singing and the old redemption story  \n",
    "Oh and some sweet day I’ll sing up there the song of victory\n",
    "\n",
    "**Chorus:**  \n",
    "Oh victory in Jesus, my Saviour forever  \n",
    "He sought me and He bought me with his redeeming blood  \n",
    "He loved me’ere I knew Him and all mo love is due Him  \n",
    "He plunged me to victory beneath the cleansing flood"
   ],
   "id": "067da29a-c424-4b6b-b2ea-f60dc49b5267"
  }
 ],
 "nbformat": 4,
 "nbformat_minor": 5,
 "metadata": {}
}
