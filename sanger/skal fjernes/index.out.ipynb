{
 "cells": [
  {
   "cell_type": "markdown",
   "metadata": {},
   "source": [
    "# Sanger som vurderes fjernet\n",
    "\n",
    "Over tid så har vi samlet inn sanger fra mange kilder, uten at det er foretatt en vurdering på hvorvidt vi faktisk burde inkludere en gitt sang. Dette har ført til at vi har en del sanger som mest sannsynligvis ikke brukes, og sanger som ikke nødvendigvis reflekterer slik vi i dag ser på hva det betyr å være en kirke og et fellesskap.\n",
    "\n",
    "Sanger som da vurderes permanent fjernet blir plassert her. Både for å kunne samle inn tilbakemeldinger, men også gi dere som bruker sangboka en mulighet til å komme med innspill. Du er hjertelig velkommen til å ta kontakt hvis du har noen tanker eller innspill."
   ],
   "id": "e28cfc96-94f0-444a-8a85-eec3cd27b0fc"
  }
 ],
 "nbformat": 4,
 "nbformat_minor": 5,
 "metadata": {}
}
